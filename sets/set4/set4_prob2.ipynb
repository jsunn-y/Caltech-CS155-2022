{
  "cells": [
    {
      "cell_type": "markdown",
      "metadata": {
        "colab_type": "text",
        "id": "view-in-github"
      },
      "source": [
        "<a href=\"https://colab.research.google.com/github/charlesincharge/Caltech-CS155-2022/blob/main/sets/set4/set4_prob2.ipynb\" target=\"_parent\"><img src=\"https://colab.research.google.com/assets/colab-badge.svg\" alt=\"Open In Colab\"/></a>"
      ]
    },
    {
      "cell_type": "markdown",
      "metadata": {
        "id": "pr1CNnzrP3-M"
      },
      "source": [
        "# Problem 2 Sample Code\n",
        "\n",
        "This sample code is meant as a guide on how to use PyTorch and how to use the relevant model layers. This not a guide on how to design a network and the network in this example is intentionally designed to have poor performace."
      ]
    },
    {
      "cell_type": "code",
      "execution_count": 1,
      "metadata": {
        "id": "J6NAvE5FP3-S"
      },
      "outputs": [],
      "source": [
        "import numpy as np\n",
        "import matplotlib.pyplot as plt\n",
        "%matplotlib inline\n",
        "\n",
        "import torch\n",
        "import torch.nn as nn\n",
        "import torch.nn.functional as F\n",
        "from torchvision import datasets, transforms"
      ]
    },
    {
      "cell_type": "code",
      "execution_count": 3,
      "metadata": {},
      "outputs": [
        {
          "name": "stdout",
          "output_type": "stream",
          "text": [
            "torch                         1.8.0\n",
            "torchvision                   0.10.0\n"
          ]
        }
      ],
      "source": [
        "!pip list | grep torch"
      ]
    },
    {
      "cell_type": "markdown",
      "metadata": {
        "id": "RfN-CHGlP3-U"
      },
      "source": [
        "## Loading MNIST\n",
        "The `torchvision` module contains links to many standard datasets. We can load the MNIST dataset into a `Dataset` object as follows:"
      ]
    },
    {
      "cell_type": "code",
      "execution_count": 2,
      "metadata": {
        "colab": {
          "referenced_widgets": [
            "2a6dd662b3d842b484c87e529fd92cdc",
            "095a1b1125ef42d49a970d4c719a4253",
            "c62cccb1a32145378900ca1f909c5ba0",
            "ba9af76f1b7c4010988c079ed0754f23"
          ]
        },
        "id": "usuoqhUjP3-V",
        "outputId": "dae3f5a9-a5c4-4d38-9f20-9d791390afb3"
      },
      "outputs": [
        {
          "name": "stderr",
          "output_type": "stream",
          "text": [
            "/opt/homebrew/Caskroom/miniforge/base/envs/main_env/lib/python3.8/site-packages/torchvision/datasets/mnist.py:498: UserWarning: The given NumPy array is not writeable, and PyTorch does not support non-writeable tensors. This means you can write to the underlying (supposedly non-writeable) NumPy array using the tensor. You may want to copy the array to protect its data or make it writeable before converting it to a tensor. This type of warning will be suppressed for the rest of this program. (Triggered internally at  /tmp/pip-req-build-4gogm3_o/torch/csrc/utils/tensor_numpy.cpp:143.)\n",
            "  return torch.from_numpy(parsed.astype(m[2], copy=False)).view(*s)\n"
          ]
        }
      ],
      "source": [
        "train_dataset = datasets.MNIST('./data', train=True, download=True,  # Downloads into a directory ../data\n",
        "                               transform=transforms.ToTensor())\n",
        "test_dataset = datasets.MNIST('./data', train=False, download=False,  # No need to download again\n",
        "                              transform=transforms.ToTensor())"
      ]
    },
    {
      "cell_type": "markdown",
      "metadata": {
        "id": "5_JxT8_wP3-X"
      },
      "source": [
        "The `Dataset` object is an iterable where each element is a tuple of (input `Tensor`, target):"
      ]
    },
    {
      "cell_type": "code",
      "execution_count": 5,
      "metadata": {
        "id": "bSQJEepxP3-X",
        "outputId": "26a6606e-cd6b-46c0-b66d-4c49e1b1b6a4"
      },
      "outputs": [
        {
          "name": "stdout",
          "output_type": "stream",
          "text": [
            "60000 <class 'torch.Tensor'> <class 'int'>\n"
          ]
        }
      ],
      "source": [
        "print(len(train_dataset), type(train_dataset[0][0]), type(train_dataset[0][1]))"
      ]
    },
    {
      "cell_type": "code",
      "execution_count": 9,
      "metadata": {},
      "outputs": [
        {
          "data": {
            "text/plain": [
              "torch.Size([1, 28, 28])"
            ]
          },
          "execution_count": 9,
          "metadata": {},
          "output_type": "execute_result"
        }
      ],
      "source": [
        "train_dataset[0][0].shape"
      ]
    },
    {
      "cell_type": "code",
      "execution_count": 10,
      "metadata": {},
      "outputs": [
        {
          "data": {
            "text/plain": [
              "60000"
            ]
          },
          "execution_count": 10,
          "metadata": {},
          "output_type": "execute_result"
        }
      ],
      "source": [
        "len(train_dataset)"
      ]
    },
    {
      "cell_type": "code",
      "execution_count": 11,
      "metadata": {},
      "outputs": [
        {
          "data": {
            "text/plain": [
              "10000"
            ]
          },
          "execution_count": 11,
          "metadata": {},
          "output_type": "execute_result"
        }
      ],
      "source": [
        "len(test_dataset)"
      ]
    },
    {
      "cell_type": "markdown",
      "metadata": {
        "id": "pese0tz1P3-Y"
      },
      "source": [
        "We can convert images to numpy arrays and plot them with matplotlib:"
      ]
    },
    {
      "cell_type": "code",
      "execution_count": 6,
      "metadata": {
        "id": "m1NDW1E5P3-Z",
        "outputId": "a5ef5649-d7af-474b-9b12-9c76661e18a4"
      },
      "outputs": [
        {
          "data": {
            "text/plain": [
              "<matplotlib.image.AxesImage at 0x16927cc10>"
            ]
          },
          "execution_count": 6,
          "metadata": {},
          "output_type": "execute_result"
        },
        {
          "data": {
            "image/png": "[encoded data removed]",
            "text/plain": [
              "<Figure size 432x288 with 1 Axes>"
            ]
          },
          "metadata": {
            "needs_background": "light"
          },
          "output_type": "display_data"
        }
      ],
      "source": [
        "plt.imshow(train_dataset[0][0][0].numpy(), cmap='gray')"
      ]
    },
    {
      "cell_type": "markdown",
      "metadata": {
        "id": "vbd1qES6P3-a"
      },
      "source": [
        "## Network Definition\n",
        "Let's instantiate a model and take a look at the layers."
      ]
    },
    {
      "cell_type": "code",
      "execution_count": 3,
      "metadata": {
        "id": "3UveM-FRP3-a",
        "outputId": "628f60b8-5770-45d6-b654-20120a3220cb",
        "scrolled": false
      },
      "outputs": [],
      "source": [
        "model1 = nn.Sequential(\n",
        "    # In problem 2, we don't use the 2D structure of an image at all. Our network\n",
        "    # takes in a flat vector of the pixel values as input.\n",
        "    nn.Flatten(),  \n",
        "    nn.Linear(784, 60),\n",
        "    nn.ReLU(),\n",
        "    nn.Dropout(0.1),\n",
        "    nn.Linear(60, 40),\n",
        "    nn.ReLU(),\n",
        "    nn.Dropout(0.1),\n",
        "    nn.Linear(40, 10),\n",
        ")\n",
        "\n",
        "model2 = nn.Sequential(\n",
        "    # In problem 2, we don't use the 2D structure of an image at all. Our network\n",
        "    # takes in a flat vector of the pixel values as input.\n",
        "    nn.Flatten(),  \n",
        "    nn.Linear(784, 120),\n",
        "    nn.ReLU(),\n",
        "    nn.Dropout(0.3),\n",
        "    nn.Linear(120, 80),\n",
        "    nn.ReLU(),\n",
        "    nn.Dropout(0.3),\n",
        "    nn.Linear(80, 10),\n",
        ")\n",
        "\n",
        "model3 = nn.Sequential(\n",
        "    # In problem 2, we don't use the 2D structure of an image at all. Our network\n",
        "    # takes in a flat vector of the pixel values as input.\n",
        "    nn.Flatten(),  \n",
        "    nn.Linear(784, 400),\n",
        "    nn.ReLU(),\n",
        "    nn.Dropout(0.5),\n",
        "    nn.Linear(400, 400),\n",
        "    nn.ReLU(),\n",
        "    nn.Dropout(0.5),\n",
        "    nn.Linear(400, 100),\n",
        "    nn.ReLU(),\n",
        "    nn.Dropout(0.5),\n",
        "    nn.Linear(100, 10),\n",
        ")"
      ]
    },
    {
      "cell_type": "code",
      "execution_count": 8,
      "metadata": {
        "id": "m33aO-z0P3-c"
      },
      "outputs": [],
      "source": [
        "def train_test(model):\n",
        "    device = torch.device('cuda' if torch.cuda.is_available() else 'cpu')\n",
        "    model.to(device)\n",
        "    optimizer = torch.optim.Adam(model.parameters(), lr=1e-3)\n",
        "    loss_fn = nn.CrossEntropyLoss()\n",
        "\n",
        "    torch.manual_seed(0)\n",
        "    train_loader = torch.utils.data.DataLoader(train_dataset, batch_size=128, shuffle=True)\n",
        "    test_loader = torch.utils.data.DataLoader(test_dataset, batch_size=128, shuffle=True) \n",
        "\n",
        "    # Some layers, such as Dropout, behave differently during training\n",
        "    model.train()\n",
        "\n",
        "    for epoch in range(15):\n",
        "        for batch_idx, (data, target) in enumerate(train_loader):\n",
        "            # Erase accumulated gradients\n",
        "            optimizer.zero_grad()\n",
        "\n",
        "            # Forward pass\n",
        "            output = model(data)\n",
        "            print(output.shape)\n",
        "            print(target)\n",
        "            # Calculate loss\n",
        "            loss = loss_fn(output, target)\n",
        "\n",
        "            # Backward pass\n",
        "            loss.backward()\n",
        "            \n",
        "            # Weight update\n",
        "            optimizer.step()\n",
        "\n",
        "        # Track loss each epoch\n",
        "        print('Train Epoch: %d  Loss: %.4f' % (epoch + 1,  loss.item()))\n",
        "\n",
        "    # Putting layers like Dropout into evaluation mode\n",
        "    model.eval()\n",
        "\n",
        "    test_loss = 0\n",
        "    correct = 0\n",
        "\n",
        "    # Turning off automatic differentiation\n",
        "    with torch.no_grad():\n",
        "        for data, target in test_loader:\n",
        "            output = model(data)\n",
        "            test_loss += loss_fn(output, target).item()  # Sum up batch loss\n",
        "            pred = output.argmax(dim=1, keepdim=True)  # Get the index of the max class score\n",
        "            correct += pred.eq(target.view_as(pred)).sum().item()\n",
        "\n",
        "    test_loss /= len(test_loader.dataset)\n",
        "\n",
        "    print('Test set: Average loss: %.4f, Accuracy: %d/%d (%.4f)' %\n",
        "        (test_loss, correct, len(test_loader.dataset),\n",
        "        100. * correct / len(test_loader.dataset)))"
      ]
    },
    {
      "cell_type": "code",
      "execution_count": 9,
      "metadata": {},
      "outputs": [
        {
          "name": "stdout",
          "output_type": "stream",
          "text": [
            "torch.Size([128, 10])\n",
            "tensor([4, 4, 8, 1, 7, 3, 4, 4, 0, 4, 7, 6, 4, 3, 0, 6, 4, 7, 1, 8, 0, 6, 7, 0,\n",
            "        6, 0, 3, 7, 0, 7, 1, 5, 3, 1, 0, 8, 4, 2, 0, 8, 1, 9, 1, 3, 4, 8, 9, 3,\n",
            "        5, 3, 8, 1, 8, 2, 9, 5, 7, 9, 4, 2, 5, 7, 0, 0, 4, 7, 0, 5, 9, 9, 5, 7,\n",
            "        8, 0, 0, 0, 9, 3, 2, 3, 9, 9, 8, 0, 2, 4, 7, 2, 9, 3, 2, 9, 5, 0, 2, 0,\n",
            "        9, 4, 6, 9, 3, 7, 9, 3, 1, 9, 5, 9, 2, 4, 4, 9, 1, 8, 3, 6, 2, 5, 5, 6,\n",
            "        1, 3, 2, 5, 0, 2, 2, 1])\n",
            "torch.Size([128, 10])\n",
            "tensor([9, 1, 5, 4, 1, 9, 9, 2, 6, 5, 3, 2, 5, 4, 7, 8, 1, 8, 5, 3, 7, 6, 2, 2,\n",
            "        9, 8, 0, 8, 8, 8, 4, 9, 1, 0, 3, 9, 3, 1, 3, 1, 5, 6, 1, 0, 1, 3, 9, 8,\n",
            "        6, 2, 5, 3, 1, 5, 6, 1, 5, 0, 3, 4, 9, 4, 8, 4, 1, 8, 2, 0, 4, 9, 2, 7,\n",
            "        7, 5, 8, 5, 8, 7, 7, 7, 9, 6, 0, 1, 3, 3, 0, 2, 7, 6, 9, 4, 3, 0, 6, 4,\n",
            "        4, 5, 2, 9, 2, 0, 4, 2, 0, 2, 4, 9, 0, 9, 0, 9, 9, 5, 6, 1, 1, 9, 7, 8,\n",
            "        3, 4, 2, 6, 7, 9, 4, 0])\n",
            "torch.Size([128, 10])\n",
            "tensor([9, 8, 2, 1, 5, 7, 0, 1, 3, 1, 2, 8, 4, 7, 2, 2, 9, 9, 2, 9, 1, 3, 8, 4,\n",
            "        2, 8, 1, 0, 1, 9, 8, 0, 9, 8, 8, 5, 1, 4, 6, 0, 3, 7, 7, 8, 6, 3, 4, 6,\n",
            "        4, 5, 0, 8, 5, 4, 1, 6, 8, 2, 7, 6, 6, 3, 3, 4, 5, 8, 9, 0, 1, 3, 3, 0,\n",
            "        7, 0, 5, 8, 4, 1, 4, 9, 9, 3, 9, 2, 4, 6, 0, 6, 0, 9, 1, 4, 9, 8, 0, 7,\n",
            "        7, 8, 3, 8, 6, 5, 8, 9, 6, 1, 9, 7, 6, 6, 4, 6, 3, 5, 8, 0, 9, 2, 7, 7,\n",
            "        5, 5, 7, 0, 8, 4, 7, 6])\n",
            "torch.Size([128, 10])\n",
            "tensor([5, 7, 1, 7, 5, 8, 3, 7, 6, 9, 4, 7, 9, 3, 3, 1, 4, 1, 3, 8, 3, 8, 6, 2,\n",
            "        3, 7, 7, 6, 2, 2, 3, 2, 7, 3, 5, 0, 7, 1, 0, 2, 0, 6, 4, 5, 9, 7, 0, 2,\n",
            "        2, 7, 9, 3, 3, 2, 4, 8, 7, 3, 2, 8, 6, 3, 2, 2, 4, 8, 3, 8, 9, 8, 9, 9,\n",
            "        1, 0, 2, 8, 2, 6, 0, 9, 1, 4, 4, 7, 8, 2, 9, 7, 6, 9, 3, 0, 0, 4, 5, 1,\n",
            "        3, 0, 3, 3, 2, 0, 8, 3, 1, 1, 0, 1, 1, 6, 4, 1, 4, 1, 3, 1, 1, 3, 7, 2,\n",
            "        7, 5, 1, 9, 6, 8, 4, 6])\n",
            "torch.Size([128, 10])\n",
            "tensor([1, 6, 1, 0, 1, 9, 2, 3, 9, 8, 1, 3, 2, 2, 7, 1, 6, 6, 0, 8, 6, 9, 1, 7,\n",
            "        0, 7, 0, 3, 9, 3, 4, 7, 0, 7, 2, 2, 6, 8, 1, 6, 4, 0, 2, 9, 4, 6, 8, 5,\n",
            "        1, 8, 3, 8, 3, 5, 6, 1, 3, 9, 8, 9, 8, 5, 4, 9, 9, 3, 3, 9, 8, 9, 7, 2,\n",
            "        1, 1, 2, 1, 3, 2, 7, 4, 5, 9, 7, 9, 9, 9, 9, 4, 1, 3, 9, 1, 0, 8, 5, 1,\n",
            "        1, 5, 7, 7, 9, 4, 2, 0, 7, 2, 1, 1, 0, 4, 4, 6, 3, 7, 9, 2, 5, 3, 7, 6,\n",
            "        9, 8, 6, 6, 4, 1, 4, 1])\n",
            "torch.Size([128, 10])\n",
            "tensor([1, 0, 5, 1, 4, 5, 0, 8, 9, 3, 5, 9, 6, 5, 2, 6, 3, 8, 2, 0, 5, 9, 6, 9,\n",
            "        9, 3, 7, 7, 1, 1, 3, 7, 5, 3, 1, 3, 1, 0, 3, 7, 1, 4, 9, 7, 4, 4, 1, 6,\n",
            "        2, 2, 9, 7, 1, 1, 1, 5, 1, 6, 7, 6, 7, 8, 5, 6, 5, 8, 8, 1, 2, 6, 3, 9,\n",
            "        1, 4, 5, 2, 2, 3, 8, 1, 5, 7, 2, 0, 8, 3, 1, 3, 6, 7, 4, 7, 8, 2, 2, 9,\n",
            "        5, 1, 5, 2, 1, 6, 6, 3, 8, 2, 1, 6, 6, 7, 3, 2, 9, 7, 7, 6, 8, 9, 4, 9,\n",
            "        9, 2, 0, 8, 9, 6, 4, 3])\n",
            "torch.Size([128, 10])\n",
            "tensor([5, 9, 4, 1, 1, 4, 6, 9, 9, 6, 0, 4, 0, 3, 8, 4, 6, 1, 3, 9, 5, 4, 0, 9,\n",
            "        4, 3, 7, 8, 3, 4, 4, 2, 2, 2, 2, 9, 2, 2, 5, 0, 0, 4, 8, 5, 4, 8, 6, 5,\n",
            "        8, 9, 5, 3, 2, 5, 6, 8, 3, 5, 0, 5, 5, 1, 1, 3, 0, 5, 3, 5, 2, 5, 1, 6,\n",
            "        6, 7, 6, 1, 9, 7, 0, 6, 3, 6, 1, 4, 9, 0, 1, 5, 1, 5, 7, 5, 9, 7, 9, 7,\n",
            "        1, 2, 7, 1, 4, 6, 1, 7, 8, 0, 1, 5, 1, 9, 4, 6, 2, 6, 9, 1, 2, 4, 3, 6,\n",
            "        4, 9, 6, 4, 6, 4, 5, 2])\n",
            "torch.Size([128, 10])\n",
            "tensor([5, 7, 8, 9, 0, 4, 1, 4, 9, 3, 1, 2, 0, 3, 8, 2, 3, 6, 6, 3, 3, 1, 6, 5,\n",
            "        7, 1, 3, 4, 5, 6, 6, 4, 6, 0, 8, 8, 6, 2, 0, 0, 1, 3, 6, 6, 1, 5, 8, 4,\n",
            "        1, 3, 5, 2, 4, 6, 2, 3, 1, 0, 1, 7, 8, 4, 5, 5, 5, 6, 1, 6, 2, 8, 1, 8,\n",
            "        8, 9, 4, 7, 3, 7, 8, 2, 8, 9, 5, 1, 7, 6, 6, 1, 5, 4, 5, 6, 5, 1, 7, 0,\n",
            "        4, 7, 0, 4, 1, 9, 3, 4, 8, 6, 5, 7, 8, 0, 1, 3, 7, 1, 5, 3, 1, 7, 3, 2,\n",
            "        2, 6, 3, 2, 5, 7, 1, 6])\n",
            "torch.Size([128, 10])\n",
            "tensor([7, 9, 4, 2, 6, 1, 2, 2, 3, 7, 1, 5, 9, 7, 6, 0, 4, 3, 8, 0, 9, 0, 5, 1,\n",
            "        9, 3, 6, 9, 6, 6, 6, 7, 4, 0, 9, 6, 4, 5, 9, 8, 6, 6, 2, 2, 0, 7, 5, 1,\n",
            "        7, 7, 4, 4, 9, 9, 9, 2, 2, 1, 3, 6, 5, 2, 9, 2, 0, 9, 9, 2, 3, 2, 2, 0,\n",
            "        1, 8, 4, 4, 7, 8, 6, 2, 1, 6, 9, 5, 2, 4, 1, 8, 0, 7, 1, 3, 6, 1, 4, 7,\n",
            "        3, 0, 2, 3, 7, 5, 2, 2, 6, 8, 2, 1, 8, 1, 5, 0, 1, 4, 1, 4, 2, 8, 4, 1,\n",
            "        6, 1, 2, 6, 4, 5, 4, 9])\n",
            "torch.Size([128, 10])\n",
            "tensor([6, 0, 3, 3, 7, 5, 4, 9, 7, 5, 8, 2, 9, 5, 6, 3, 5, 5, 5, 8, 9, 0, 9, 7,\n",
            "        2, 7, 7, 4, 3, 8, 7, 3, 0, 2, 2, 4, 9, 6, 1, 2, 0, 6, 3, 2, 9, 2, 7, 0,\n",
            "        3, 6, 8, 7, 6, 6, 4, 5, 4, 4, 3, 6, 9, 7, 1, 9, 0, 7, 9, 5, 2, 6, 4, 4,\n",
            "        3, 8, 3, 4, 2, 8, 7, 9, 6, 6, 8, 9, 3, 9, 9, 3, 1, 9, 6, 4, 1, 3, 6, 6,\n",
            "        7, 0, 8, 3, 6, 1, 0, 8, 1, 3, 6, 0, 4, 4, 1, 4, 6, 6, 1, 3, 3, 6, 0, 9,\n",
            "        8, 2, 4, 0, 8, 8, 4, 2])\n",
            "torch.Size([128, 10])\n",
            "tensor([9, 8, 1, 2, 6, 2, 9, 6, 5, 7, 4, 4, 2, 5, 5, 7, 9, 7, 2, 1, 2, 0, 0, 2,\n",
            "        1, 8, 0, 0, 5, 9, 1, 2, 2, 3, 5, 3, 5, 4, 0, 6, 7, 2, 9, 3, 8, 5, 5, 6,\n",
            "        1, 9, 0, 7, 9, 3, 0, 5, 9, 3, 1, 4, 2, 0, 7, 3, 5, 8, 0, 7, 9, 0, 6, 2,\n",
            "        7, 6, 5, 2, 3, 1, 5, 6, 4, 4, 1, 8, 1, 9, 6, 3, 5, 6, 8, 6, 0, 0, 0, 7,\n",
            "        8, 9, 4, 1, 5, 0, 7, 7, 3, 5, 4, 1, 2, 7, 7, 1, 1, 4, 1, 5, 9, 0, 6, 3,\n",
            "        9, 3, 4, 0, 1, 5, 3, 1])\n",
            "torch.Size([128, 10])\n",
            "tensor([1, 4, 8, 5, 3, 3, 2, 1, 2, 4, 0, 4, 9, 1, 1, 7, 7, 4, 9, 1, 5, 9, 8, 9,\n",
            "        7, 3, 8, 2, 5, 5, 8, 1, 3, 3, 3, 1, 8, 3, 7, 7, 1, 2, 9, 6, 6, 2, 2, 0,\n",
            "        2, 0, 0, 4, 6, 4, 7, 9, 0, 4, 1, 2, 5, 8, 8, 5, 4, 8, 1, 6, 1, 4, 9, 8,\n",
            "        1, 0, 3, 2, 5, 4, 2, 5, 2, 0, 7, 9, 6, 8, 5, 1, 7, 0, 6, 0, 0, 3, 8, 8,\n",
            "        5, 8, 6, 7, 2, 1, 8, 0, 6, 3, 6, 9, 3, 0, 0, 5, 1, 8, 6, 4, 6, 5, 8, 2,\n",
            "        0, 0, 6, 1, 6, 5, 5, 8])\n",
            "torch.Size([128, 10])\n",
            "tensor([2, 7, 3, 8, 4, 6, 6, 0, 1, 6, 3, 1, 7, 5, 1, 5, 9, 3, 4, 1, 6, 9, 1, 3,\n",
            "        6, 6, 8, 2, 5, 3, 8, 9, 0, 4, 8, 5, 4, 9, 9, 6, 5, 0, 7, 1, 9, 6, 0, 7,\n",
            "        2, 3, 5, 1, 8, 6, 0, 2, 3, 2, 2, 0, 2, 3, 5, 8, 9, 8, 8, 2, 4, 9, 5, 1,\n",
            "        9, 7, 7, 9, 8, 7, 1, 3, 1, 5, 8, 6, 8, 7, 6, 6, 3, 0, 3, 0, 2, 9, 9, 7,\n",
            "        9, 0, 7, 3, 0, 3, 8, 2, 7, 0, 8, 7, 6, 3, 8, 9, 8, 1, 1, 9, 0, 8, 9, 7,\n",
            "        8, 0, 6, 3, 9, 6, 5, 5])\n",
            "torch.Size([128, 10])\n",
            "tensor([6, 8, 1, 5, 6, 5, 9, 8, 2, 6, 0, 9, 0, 3, 8, 4, 9, 3, 4, 5, 3, 7, 3, 3,\n",
            "        1, 5, 2, 1, 9, 6, 5, 1, 5, 1, 7, 1, 7, 0, 9, 6, 2, 5, 1, 0, 7, 0, 6, 4,\n",
            "        0, 1, 5, 0, 3, 6, 6, 6, 3, 6, 2, 5, 3, 8, 9, 7, 8, 1, 7, 9, 3, 3, 4, 3,\n",
            "        1, 1, 0, 3, 2, 2, 0, 2, 2, 7, 4, 9, 8, 3, 0, 2, 5, 9, 5, 5, 1, 4, 8, 0,\n",
            "        4, 1, 9, 1, 3, 6, 1, 9, 2, 8, 5, 9, 4, 8, 0, 4, 7, 2, 0, 0, 4, 0, 0, 1,\n",
            "        5, 3, 5, 9, 7, 8, 9, 1])\n",
            "torch.Size([128, 10])\n",
            "tensor([9, 9, 3, 0, 1, 7, 8, 5, 4, 1, 4, 6, 4, 1, 2, 5, 5, 3, 6, 9, 2, 8, 6, 0,\n",
            "        0, 9, 8, 5, 5, 1, 6, 3, 0, 6, 1, 8, 9, 1, 2, 3, 5, 0, 6, 3, 0, 2, 4, 0,\n",
            "        0, 6, 9, 1, 5, 3, 9, 5, 8, 9, 7, 2, 9, 6, 2, 0, 5, 4, 3, 9, 3, 6, 4, 0,\n",
            "        8, 9, 8, 0, 9, 7, 4, 3, 4, 6, 7, 4, 4, 2, 9, 9, 4, 3, 8, 0, 4, 9, 0, 6,\n",
            "        4, 5, 1, 6, 6, 1, 6, 0, 2, 3, 2, 1, 1, 5, 8, 3, 5, 1, 1, 0, 3, 3, 4, 7,\n",
            "        2, 0, 2, 0, 7, 6, 2, 9])\n",
            "torch.Size([128, 10])\n",
            "tensor([9, 6, 1, 8, 9, 6, 5, 5, 5, 9, 5, 7, 2, 1, 8, 0, 4, 7, 5, 0, 3, 3, 1, 2,\n",
            "        0, 3, 6, 8, 9, 6, 5, 6, 6, 6, 4, 0, 1, 5, 4, 0, 7, 7, 7, 1, 3, 0, 5, 5,\n",
            "        6, 1, 0, 2, 3, 2, 9, 8, 9, 2, 8, 8, 9, 1, 2, 8, 1, 8, 2, 3, 9, 2, 8, 7,\n",
            "        8, 5, 5, 6, 1, 9, 7, 1, 2, 7, 3, 5, 6, 3, 0, 7, 5, 0, 6, 2, 2, 0, 4, 2,\n",
            "        4, 4, 9, 9, 2, 3, 3, 2, 4, 2, 3, 3, 9, 6, 6, 1, 6, 2, 3, 7, 9, 7, 8, 5,\n",
            "        6, 6, 9, 7, 3, 1, 8, 3])\n",
            "torch.Size([128, 10])\n",
            "tensor([3, 7, 7, 3, 3, 8, 9, 0, 1, 0, 5, 9, 7, 2, 3, 2, 2, 4, 2, 5, 0, 3, 2, 9,\n",
            "        6, 9, 1, 0, 4, 8, 2, 8, 7, 1, 1, 5, 6, 1, 1, 8, 0, 3, 0, 1, 9, 3, 4, 5,\n",
            "        1, 2, 1, 3, 6, 5, 3, 0, 1, 6, 6, 0, 1, 1, 4, 6, 2, 2, 1, 2, 1, 2, 7, 0,\n",
            "        8, 2, 1, 1, 7, 5, 1, 2, 5, 3, 4, 9, 0, 9, 1, 9, 2, 8, 9, 1, 9, 6, 1, 7,\n",
            "        1, 6, 0, 7, 1, 5, 9, 7, 7, 8, 9, 3, 1, 1, 5, 8, 9, 5, 9, 0, 7, 0, 3, 3,\n",
            "        1, 7, 4, 6, 1, 3, 6, 1])\n",
            "torch.Size([128, 10])\n",
            "tensor([7, 6, 1, 4, 5, 7, 3, 1, 3, 6, 4, 7, 4, 8, 1, 9, 0, 2, 7, 7, 8, 7, 1, 8,\n",
            "        4, 6, 9, 0, 4, 1, 3, 2, 1, 0, 8, 1, 6, 3, 7, 9, 8, 9, 2, 3, 1, 9, 9, 3,\n",
            "        3, 1, 6, 0, 8, 6, 0, 2, 0, 1, 5, 1, 2, 4, 4, 9, 9, 8, 1, 6, 6, 9, 1, 2,\n",
            "        0, 1, 5, 9, 2, 3, 6, 6, 4, 4, 7, 5, 8, 2, 2, 2, 4, 3, 8, 7, 1, 1, 1, 5,\n",
            "        6, 1, 6, 9, 7, 9, 4, 3, 3, 2, 3, 0, 0, 5, 1, 8, 0, 5, 1, 7, 5, 1, 3, 6,\n",
            "        7, 6, 9, 3, 3, 3, 1, 3])\n",
            "torch.Size([128, 10])\n",
            "tensor([0, 2, 4, 2, 6, 1, 8, 6, 5, 2, 4, 0, 9, 5, 5, 0, 1, 2, 7, 3, 9, 8, 1, 6,\n",
            "        7, 9, 0, 6, 2, 2, 8, 4, 6, 4, 9, 5, 3, 3, 4, 2, 7, 5, 4, 7, 6, 9, 4, 3,\n",
            "        4, 4, 3, 6, 0, 7, 2, 3, 4, 1, 8, 1, 9, 9, 0, 4, 3, 5, 6, 4, 0, 6, 7, 3,\n",
            "        1, 6, 5, 9, 0, 9, 9, 8, 2, 2, 1, 3, 1, 8, 5, 4, 7, 1, 4, 8, 7, 6, 6, 7,\n",
            "        2, 3, 4, 6, 1, 2, 5, 9, 8, 2, 6, 1, 3, 3, 0, 7, 4, 9, 8, 6, 4, 5, 2, 2,\n",
            "        0, 2, 7, 3, 0, 1, 0, 7])\n",
            "torch.Size([128, 10])\n",
            "tensor([6, 1, 5, 4, 9, 2, 6, 1, 1, 1, 5, 0, 7, 3, 6, 2, 1, 3, 4, 3, 7, 0, 8, 9,\n",
            "        0, 7, 3, 7, 0, 7, 8, 1, 5, 1, 9, 5, 5, 2, 8, 0, 8, 0, 5, 7, 7, 9, 7, 9,\n",
            "        6, 3, 0, 0, 4, 9, 9, 5, 0, 1, 3, 5, 1, 0, 6, 3, 1, 2, 1, 9, 8, 8, 8, 3,\n",
            "        3, 4, 1, 9, 5, 8, 5, 2, 3, 0, 6, 0, 7, 3, 1, 0, 6, 6, 3, 6, 2, 1, 9, 9,\n",
            "        2, 4, 9, 7, 2, 5, 4, 0, 6, 9, 3, 2, 7, 5, 2, 0, 6, 6, 5, 7, 9, 0, 8, 4,\n",
            "        3, 8, 5, 5, 2, 8, 1, 3])\n",
            "torch.Size([128, 10])\n",
            "tensor([9, 5, 5, 3, 5, 0, 7, 5, 1, 2, 4, 6, 3, 6, 2, 6, 7, 7, 0, 4, 8, 1, 0, 1,\n",
            "        0, 2, 8, 4, 1, 4, 3, 3, 4, 3, 9, 0, 9, 1, 0, 0, 1, 8, 5, 0, 4, 5, 6, 1,\n",
            "        1, 8, 9, 4, 1, 4, 3, 9, 8, 4, 5, 5, 1, 4, 3, 2, 6, 0, 8, 3, 2, 6, 8, 6,\n",
            "        8, 2, 3, 7, 9, 2, 6, 4, 3, 5, 9, 7, 6, 1, 8, 6, 0, 1, 6, 4, 1, 6, 5, 7,\n",
            "        8, 0, 2, 1, 9, 6, 6, 1, 7, 3, 0, 2, 1, 8, 4, 8, 3, 2, 6, 5, 2, 7, 7, 8,\n",
            "        1, 9, 4, 5, 7, 6, 7, 9])\n",
            "torch.Size([128, 10])\n",
            "tensor([5, 0, 2, 5, 7, 1, 3, 1, 3, 3, 6, 7, 6, 0, 9, 4, 1, 9, 0, 2, 7, 3, 9, 7,\n",
            "        3, 0, 5, 6, 5, 3, 7, 2, 0, 0, 4, 4, 0, 3, 4, 1, 6, 6, 9, 9, 1, 8, 9, 2,\n",
            "        6, 1, 8, 8, 2, 0, 8, 7, 7, 7, 7, 3, 5, 1, 3, 9, 6, 3, 0, 7, 1, 7, 6, 6,\n",
            "        2, 7, 3, 5, 7, 3, 2, 9, 1, 9, 4, 3, 0, 7, 4, 0, 6, 8, 4, 9, 7, 8, 2, 8,\n",
            "        9, 3, 3, 4, 1, 1, 9, 6, 3, 3, 8, 1, 7, 7, 7, 2, 9, 3, 1, 4, 4, 5, 7, 7,\n",
            "        1, 6, 8, 1, 9, 6, 2, 7])\n",
            "torch.Size([128, 10])\n",
            "tensor([4, 8, 1, 2, 2, 3, 2, 7, 2, 0, 0, 3, 2, 6, 1, 4, 1, 7, 1, 1, 4, 1, 7, 2,\n",
            "        9, 0, 5, 8, 2, 6, 2, 5, 1, 6, 6, 1, 8, 7, 9, 5, 1, 7, 7, 3, 3, 2, 1, 0,\n",
            "        0, 3, 9, 7, 3, 7, 5, 8, 6, 9, 2, 2, 2, 2, 1, 1, 8, 3, 9, 6, 2, 0, 6, 1,\n",
            "        6, 1, 7, 0, 7, 3, 9, 2, 5, 3, 5, 7, 7, 5, 9, 9, 8, 8, 4, 2, 0, 7, 3, 1,\n",
            "        6, 0, 4, 2, 6, 4, 5, 3, 8, 5, 8, 8, 7, 8, 3, 2, 7, 4, 8, 5, 2, 6, 0, 4,\n",
            "        5, 0, 8, 5, 3, 4, 3, 1])\n",
            "torch.Size([128, 10])\n",
            "tensor([2, 0, 4, 0, 8, 0, 8, 1, 2, 1, 3, 5, 2, 4, 2, 5, 7, 2, 4, 4, 4, 3, 8, 5,\n",
            "        8, 6, 2, 2, 9, 1, 6, 9, 5, 1, 8, 7, 5, 1, 1, 3, 0, 6, 3, 8, 9, 5, 3, 8,\n",
            "        5, 9, 8, 6, 2, 3, 9, 2, 6, 4, 9, 9, 2, 7, 6, 0, 7, 5, 0, 0, 0, 7, 2, 9,\n",
            "        5, 4, 5, 0, 1, 5, 4, 6, 7, 3, 5, 7, 7, 5, 7, 8, 6, 2, 7, 3, 9, 0, 3, 0,\n",
            "        9, 6, 7, 6, 7, 3, 8, 2, 6, 1, 2, 1, 1, 3, 5, 6, 0, 4, 3, 8, 4, 7, 2, 9,\n",
            "        8, 4, 9, 0, 0, 6, 1, 9])\n",
            "torch.Size([128, 10])\n",
            "tensor([9, 6, 8, 9, 2, 1, 6, 1, 2, 0, 0, 8, 8, 2, 2, 5, 3, 8, 7, 9, 6, 5, 4, 7,\n",
            "        5, 4, 4, 8, 1, 2, 2, 6, 9, 7, 9, 0, 9, 6, 3, 3, 5, 0, 3, 3, 2, 3, 9, 4,\n",
            "        7, 5, 2, 9, 3, 5, 6, 2, 1, 7, 0, 9, 5, 0, 7, 5, 9, 5, 5, 7, 2, 6, 2, 5,\n",
            "        0, 5, 4, 7, 5, 3, 0, 9, 8, 6, 7, 7, 7, 9, 2, 4, 0, 6, 4, 0, 5, 8, 3, 5,\n",
            "        2, 3, 3, 2, 8, 1, 0, 3, 4, 3, 9, 2, 1, 0, 9, 8, 4, 6, 6, 4, 1, 7, 7, 0,\n",
            "        9, 2, 9, 1, 7, 6, 2, 0])\n"
          ]
        },
        {
          "ename": "KeyboardInterrupt",
          "evalue": "",
          "output_type": "error",
          "traceback": [
            "\u001b[0;31m---------------------------------------------------------------------------\u001b[0m",
            "\u001b[0;31mKeyboardInterrupt\u001b[0m                         Traceback (most recent call last)",
            "\u001b[0;32m/var/folders/f3/7j18yvxj2dq714wnpdp102m80000gn/T/ipykernel_29211/2557493268.py\u001b[0m in \u001b[0;36m<module>\u001b[0;34m\u001b[0m\n\u001b[0;32m----> 1\u001b[0;31m \u001b[0mtrain_test\u001b[0m\u001b[0;34m(\u001b[0m\u001b[0mmodel1\u001b[0m\u001b[0;34m)\u001b[0m\u001b[0;34m\u001b[0m\u001b[0;34m\u001b[0m\u001b[0m\n\u001b[0m",
            "\u001b[0;32m/var/folders/f3/7j18yvxj2dq714wnpdp102m80000gn/T/ipykernel_29211/2532974499.py\u001b[0m in \u001b[0;36mtrain_test\u001b[0;34m(model)\u001b[0m\n\u001b[1;32m     18\u001b[0m \u001b[0;34m\u001b[0m\u001b[0m\n\u001b[1;32m     19\u001b[0m             \u001b[0;31m# Forward pass\u001b[0m\u001b[0;34m\u001b[0m\u001b[0;34m\u001b[0m\u001b[0;34m\u001b[0m\u001b[0m\n\u001b[0;32m---> 20\u001b[0;31m             \u001b[0moutput\u001b[0m \u001b[0;34m=\u001b[0m \u001b[0mmodel\u001b[0m\u001b[0;34m(\u001b[0m\u001b[0mdata\u001b[0m\u001b[0;34m)\u001b[0m\u001b[0;34m\u001b[0m\u001b[0;34m\u001b[0m\u001b[0m\n\u001b[0m\u001b[1;32m     21\u001b[0m             \u001b[0mprint\u001b[0m\u001b[0;34m(\u001b[0m\u001b[0moutput\u001b[0m\u001b[0;34m.\u001b[0m\u001b[0mshape\u001b[0m\u001b[0;34m)\u001b[0m\u001b[0;34m\u001b[0m\u001b[0;34m\u001b[0m\u001b[0m\n\u001b[1;32m     22\u001b[0m             \u001b[0mprint\u001b[0m\u001b[0;34m(\u001b[0m\u001b[0mtarget\u001b[0m\u001b[0;34m)\u001b[0m\u001b[0;34m\u001b[0m\u001b[0;34m\u001b[0m\u001b[0m\n",
            "\u001b[0;32m/opt/homebrew/Caskroom/miniforge/base/envs/main_env/lib/python3.8/site-packages/torch/nn/modules/module.py\u001b[0m in \u001b[0;36m_call_impl\u001b[0;34m(self, *input, **kwargs)\u001b[0m\n\u001b[1;32m    887\u001b[0m             \u001b[0mresult\u001b[0m \u001b[0;34m=\u001b[0m \u001b[0mself\u001b[0m\u001b[0;34m.\u001b[0m\u001b[0m_slow_forward\u001b[0m\u001b[0;34m(\u001b[0m\u001b[0;34m*\u001b[0m\u001b[0minput\u001b[0m\u001b[0;34m,\u001b[0m \u001b[0;34m**\u001b[0m\u001b[0mkwargs\u001b[0m\u001b[0;34m)\u001b[0m\u001b[0;34m\u001b[0m\u001b[0;34m\u001b[0m\u001b[0m\n\u001b[1;32m    888\u001b[0m         \u001b[0;32melse\u001b[0m\u001b[0;34m:\u001b[0m\u001b[0;34m\u001b[0m\u001b[0;34m\u001b[0m\u001b[0m\n\u001b[0;32m--> 889\u001b[0;31m             \u001b[0mresult\u001b[0m \u001b[0;34m=\u001b[0m \u001b[0mself\u001b[0m\u001b[0;34m.\u001b[0m\u001b[0mforward\u001b[0m\u001b[0;34m(\u001b[0m\u001b[0;34m*\u001b[0m\u001b[0minput\u001b[0m\u001b[0;34m,\u001b[0m \u001b[0;34m**\u001b[0m\u001b[0mkwargs\u001b[0m\u001b[0;34m)\u001b[0m\u001b[0;34m\u001b[0m\u001b[0;34m\u001b[0m\u001b[0m\n\u001b[0m\u001b[1;32m    890\u001b[0m         for hook in itertools.chain(\n\u001b[1;32m    891\u001b[0m                 \u001b[0m_global_forward_hooks\u001b[0m\u001b[0;34m.\u001b[0m\u001b[0mvalues\u001b[0m\u001b[0;34m(\u001b[0m\u001b[0;34m)\u001b[0m\u001b[0;34m,\u001b[0m\u001b[0;34m\u001b[0m\u001b[0;34m\u001b[0m\u001b[0m\n",
            "\u001b[0;32m/opt/homebrew/Caskroom/miniforge/base/envs/main_env/lib/python3.8/site-packages/torch/nn/modules/container.py\u001b[0m in \u001b[0;36mforward\u001b[0;34m(self, input)\u001b[0m\n\u001b[1;32m    117\u001b[0m     \u001b[0;32mdef\u001b[0m \u001b[0mforward\u001b[0m\u001b[0;34m(\u001b[0m\u001b[0mself\u001b[0m\u001b[0;34m,\u001b[0m \u001b[0minput\u001b[0m\u001b[0;34m)\u001b[0m\u001b[0;34m:\u001b[0m\u001b[0;34m\u001b[0m\u001b[0;34m\u001b[0m\u001b[0m\n\u001b[1;32m    118\u001b[0m         \u001b[0;32mfor\u001b[0m \u001b[0mmodule\u001b[0m \u001b[0;32min\u001b[0m \u001b[0mself\u001b[0m\u001b[0;34m:\u001b[0m\u001b[0;34m\u001b[0m\u001b[0;34m\u001b[0m\u001b[0m\n\u001b[0;32m--> 119\u001b[0;31m             \u001b[0minput\u001b[0m \u001b[0;34m=\u001b[0m \u001b[0mmodule\u001b[0m\u001b[0;34m(\u001b[0m\u001b[0minput\u001b[0m\u001b[0;34m)\u001b[0m\u001b[0;34m\u001b[0m\u001b[0;34m\u001b[0m\u001b[0m\n\u001b[0m\u001b[1;32m    120\u001b[0m         \u001b[0;32mreturn\u001b[0m \u001b[0minput\u001b[0m\u001b[0;34m\u001b[0m\u001b[0;34m\u001b[0m\u001b[0m\n\u001b[1;32m    121\u001b[0m \u001b[0;34m\u001b[0m\u001b[0m\n",
            "\u001b[0;32m/opt/homebrew/Caskroom/miniforge/base/envs/main_env/lib/python3.8/site-packages/torch/nn/modules/module.py\u001b[0m in \u001b[0;36m_call_impl\u001b[0;34m(self, *input, **kwargs)\u001b[0m\n\u001b[1;32m    887\u001b[0m             \u001b[0mresult\u001b[0m \u001b[0;34m=\u001b[0m \u001b[0mself\u001b[0m\u001b[0;34m.\u001b[0m\u001b[0m_slow_forward\u001b[0m\u001b[0;34m(\u001b[0m\u001b[0;34m*\u001b[0m\u001b[0minput\u001b[0m\u001b[0;34m,\u001b[0m \u001b[0;34m**\u001b[0m\u001b[0mkwargs\u001b[0m\u001b[0;34m)\u001b[0m\u001b[0;34m\u001b[0m\u001b[0;34m\u001b[0m\u001b[0m\n\u001b[1;32m    888\u001b[0m         \u001b[0;32melse\u001b[0m\u001b[0;34m:\u001b[0m\u001b[0;34m\u001b[0m\u001b[0;34m\u001b[0m\u001b[0m\n\u001b[0;32m--> 889\u001b[0;31m             \u001b[0mresult\u001b[0m \u001b[0;34m=\u001b[0m \u001b[0mself\u001b[0m\u001b[0;34m.\u001b[0m\u001b[0mforward\u001b[0m\u001b[0;34m(\u001b[0m\u001b[0;34m*\u001b[0m\u001b[0minput\u001b[0m\u001b[0;34m,\u001b[0m \u001b[0;34m**\u001b[0m\u001b[0mkwargs\u001b[0m\u001b[0;34m)\u001b[0m\u001b[0;34m\u001b[0m\u001b[0;34m\u001b[0m\u001b[0m\n\u001b[0m\u001b[1;32m    890\u001b[0m         for hook in itertools.chain(\n\u001b[1;32m    891\u001b[0m                 \u001b[0m_global_forward_hooks\u001b[0m\u001b[0;34m.\u001b[0m\u001b[0mvalues\u001b[0m\u001b[0;34m(\u001b[0m\u001b[0;34m)\u001b[0m\u001b[0;34m,\u001b[0m\u001b[0;34m\u001b[0m\u001b[0;34m\u001b[0m\u001b[0m\n",
            "\u001b[0;32m/opt/homebrew/Caskroom/miniforge/base/envs/main_env/lib/python3.8/site-packages/torch/nn/modules/linear.py\u001b[0m in \u001b[0;36mforward\u001b[0;34m(self, input)\u001b[0m\n\u001b[1;32m     92\u001b[0m \u001b[0;34m\u001b[0m\u001b[0m\n\u001b[1;32m     93\u001b[0m     \u001b[0;32mdef\u001b[0m \u001b[0mforward\u001b[0m\u001b[0;34m(\u001b[0m\u001b[0mself\u001b[0m\u001b[0;34m,\u001b[0m \u001b[0minput\u001b[0m\u001b[0;34m:\u001b[0m \u001b[0mTensor\u001b[0m\u001b[0;34m)\u001b[0m \u001b[0;34m->\u001b[0m \u001b[0mTensor\u001b[0m\u001b[0;34m:\u001b[0m\u001b[0;34m\u001b[0m\u001b[0;34m\u001b[0m\u001b[0m\n\u001b[0;32m---> 94\u001b[0;31m         \u001b[0;32mreturn\u001b[0m \u001b[0mF\u001b[0m\u001b[0;34m.\u001b[0m\u001b[0mlinear\u001b[0m\u001b[0;34m(\u001b[0m\u001b[0minput\u001b[0m\u001b[0;34m,\u001b[0m \u001b[0mself\u001b[0m\u001b[0;34m.\u001b[0m\u001b[0mweight\u001b[0m\u001b[0;34m,\u001b[0m \u001b[0mself\u001b[0m\u001b[0;34m.\u001b[0m\u001b[0mbias\u001b[0m\u001b[0;34m)\u001b[0m\u001b[0;34m\u001b[0m\u001b[0;34m\u001b[0m\u001b[0m\n\u001b[0m\u001b[1;32m     95\u001b[0m \u001b[0;34m\u001b[0m\u001b[0m\n\u001b[1;32m     96\u001b[0m     \u001b[0;32mdef\u001b[0m \u001b[0mextra_repr\u001b[0m\u001b[0;34m(\u001b[0m\u001b[0mself\u001b[0m\u001b[0;34m)\u001b[0m \u001b[0;34m->\u001b[0m \u001b[0mstr\u001b[0m\u001b[0;34m:\u001b[0m\u001b[0;34m\u001b[0m\u001b[0;34m\u001b[0m\u001b[0m\n",
            "\u001b[0;32m/opt/homebrew/Caskroom/miniforge/base/envs/main_env/lib/python3.8/site-packages/torch/nn/functional.py\u001b[0m in \u001b[0;36mlinear\u001b[0;34m(input, weight, bias)\u001b[0m\n\u001b[1;32m   1751\u001b[0m     \u001b[0;32mif\u001b[0m \u001b[0mhas_torch_function_variadic\u001b[0m\u001b[0;34m(\u001b[0m\u001b[0minput\u001b[0m\u001b[0;34m,\u001b[0m \u001b[0mweight\u001b[0m\u001b[0;34m)\u001b[0m\u001b[0;34m:\u001b[0m\u001b[0;34m\u001b[0m\u001b[0;34m\u001b[0m\u001b[0m\n\u001b[1;32m   1752\u001b[0m         \u001b[0;32mreturn\u001b[0m \u001b[0mhandle_torch_function\u001b[0m\u001b[0;34m(\u001b[0m\u001b[0mlinear\u001b[0m\u001b[0;34m,\u001b[0m \u001b[0;34m(\u001b[0m\u001b[0minput\u001b[0m\u001b[0;34m,\u001b[0m \u001b[0mweight\u001b[0m\u001b[0;34m)\u001b[0m\u001b[0;34m,\u001b[0m \u001b[0minput\u001b[0m\u001b[0;34m,\u001b[0m \u001b[0mweight\u001b[0m\u001b[0;34m,\u001b[0m \u001b[0mbias\u001b[0m\u001b[0;34m=\u001b[0m\u001b[0mbias\u001b[0m\u001b[0;34m)\u001b[0m\u001b[0;34m\u001b[0m\u001b[0;34m\u001b[0m\u001b[0m\n\u001b[0;32m-> 1753\u001b[0;31m     \u001b[0;32mreturn\u001b[0m \u001b[0mtorch\u001b[0m\u001b[0;34m.\u001b[0m\u001b[0m_C\u001b[0m\u001b[0;34m.\u001b[0m\u001b[0m_nn\u001b[0m\u001b[0;34m.\u001b[0m\u001b[0mlinear\u001b[0m\u001b[0;34m(\u001b[0m\u001b[0minput\u001b[0m\u001b[0;34m,\u001b[0m \u001b[0mweight\u001b[0m\u001b[0;34m,\u001b[0m \u001b[0mbias\u001b[0m\u001b[0;34m)\u001b[0m\u001b[0;34m\u001b[0m\u001b[0;34m\u001b[0m\u001b[0m\n\u001b[0m\u001b[1;32m   1754\u001b[0m \u001b[0;34m\u001b[0m\u001b[0m\n\u001b[1;32m   1755\u001b[0m \u001b[0;34m\u001b[0m\u001b[0m\n",
            "\u001b[0;31mKeyboardInterrupt\u001b[0m: "
          ]
        }
      ],
      "source": [
        "train_test(model1)"
      ]
    },
    {
      "cell_type": "code",
      "execution_count": null,
      "metadata": {},
      "outputs": [],
      "source": []
    }
  ],
  "metadata": {
    "colab": {
      "include_colab_link": true,
      "name": "set4_prob2.ipynb",
      "provenance": []
    },
    "kernelspec": {
      "display_name": "Python 3",
      "language": "python",
      "name": "python3"
    },
    "language_info": {
      "codemirror_mode": {
        "name": "ipython",
        "version": 3
      },
      "file_extension": ".py",
      "mimetype": "text/x-python",
      "name": "python",
      "nbconvert_exporter": "python",
      "pygments_lexer": "ipython3",
      "version": "3.8.12"
    }
  },
  "nbformat": 4,
  "nbformat_minor": 0
}
