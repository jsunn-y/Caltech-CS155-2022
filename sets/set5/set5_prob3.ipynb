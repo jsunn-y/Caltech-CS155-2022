{
  "cells": [
    {
      "cell_type": "markdown",
      "metadata": {
        "colab_type": "text",
        "id": "view-in-github"
      },
      "source": [
        "<a href=\"https://colab.research.google.com/github/charlesincharge/Caltech-CS155-2022/blob/main/sets/set5/set5_prob3.ipynb\" target=\"_parent\"><img src=\"https://colab.research.google.com/assets/colab-badge.svg\" alt=\"Open In Colab\"/></a>"
      ]
    },
    {
      "cell_type": "markdown",
      "metadata": {
        "id": "ViXzmmMF4T9_"
      },
      "source": [
        "## Set 5\n",
        "## 3. Word2Vec \\*\\*Principles**"
      ]
    },
    {
      "cell_type": "markdown",
      "metadata": {
        "id": "HXT_eNcB93ue"
      },
      "source": [
        "#### Preparation"
      ]
    },
    {
      "cell_type": "code",
      "execution_count": 1,
      "metadata": {
        "id": "2wZbd6FeH7cY"
      },
      "outputs": [
        {
          "name": "stdout",
          "output_type": "stream",
          "text": [
            "zsh:1: command not found: wget\n"
          ]
        }
      ],
      "source": [
        "# download the helper function\n",
        "!wget -O P3CHelpers.py https://raw.githubusercontent.com/charlesincharge/Caltech-CS155-2022/main/sets/set5/P3CHelpers.py"
      ]
    },
    {
      "cell_type": "code",
      "execution_count": 2,
      "metadata": {
        "id": "LmmdYcVUH9D8"
      },
      "outputs": [
        {
          "name": "stdout",
          "output_type": "stream",
          "text": [
            "zsh:1: command not found: wget\n"
          ]
        }
      ],
      "source": [
        "# download the dataset\n",
        "!wget -O dr_seuss.txt https://raw.githubusercontent.com/charlesincharge/Caltech-CS155-2022/main/sets/set5/data/dr_seuss.txt"
      ]
    },
    {
      "cell_type": "code",
      "execution_count": 1,
      "metadata": {
        "id": "Groxh_Rz4QLB"
      },
      "outputs": [],
      "source": [
        "import numpy as np\n",
        "from P3CHelpers import *\n",
        "import torch\n",
        "import torch.nn as nn\n",
        "import torch.optim as optim\n",
        "from torch.utils.data import Dataset"
      ]
    },
    {
      "cell_type": "markdown",
      "metadata": {
        "id": "h9aBEkZD5wb2"
      },
      "source": [
        "#### Problem D: \n",
        "Fill in the generate_traindata and find_most_similar_pairs functions."
      ]
    },
    {
      "cell_type": "code",
      "execution_count": 2,
      "metadata": {
        "id": "UChXkrvs7OF0"
      },
      "outputs": [],
      "source": [
        "def get_word_repr(word_to_index, word):\n",
        "    \"\"\"\n",
        "    Returns one-hot-encoded feature representation of the specified word given\n",
        "    a dictionary mapping words to their one-hot-encoded index.\n",
        "\n",
        "    Arguments:\n",
        "        word_to_index: Dictionary mapping words to their corresponding index\n",
        "                       in a one-hot-encoded representation of our corpus.\n",
        "\n",
        "        word:          Word whose feature representation we wish to compute.\n",
        "\n",
        "    Returns:\n",
        "        feature_representation:     Feature representation of the passed-in word.\n",
        "    \"\"\"\n",
        "    unique_words = word_to_index.keys()\n",
        "    # Return a vector that's zero everywhere besides the index corresponding to <word>\n",
        "    feature_representation = np.zeros(len(unique_words))\n",
        "    feature_representation[word_to_index[word]] = 1\n",
        "    return feature_representation    \n",
        "\n",
        "def generate_traindata(word_list, word_to_index, window_size=4):\n",
        "    \"\"\"\n",
        "    Generates training data for Skipgram model.\n",
        "\n",
        "    Arguments:\n",
        "        word_list:     Sequential list of words (strings).\n",
        "        word_to_index: Dictionary mapping words to their corresponding index\n",
        "                       in a one-hot-encoded representation of our corpus.\n",
        "\n",
        "        window_size:   Size of Skipgram window. Defaults to 2 \n",
        "                       (use the default value when running your code).\n",
        "\n",
        "    Returns:\n",
        "        (trainX, trainY):     A pair of matrices (trainX, trainY) containing training \n",
        "                              points (one-hot-encoded vectors) and their corresponding output_word\n",
        "                              (also one-hot-encoded vectors)\n",
        "\n",
        "    \"\"\"\n",
        "    trainX = []\n",
        "    trainY = []\n",
        "\n",
        "    ##############################################################\n",
        "    # TODO: Implement this function, populating trainX and trainY\n",
        "    ##############################################################\n",
        "    for i in range(len(word_list)):\n",
        "        x = get_word_repr(word_to_index, word_list[i])\n",
        "        for j in range(i - window_size, i + window_size + 1):\n",
        "            if j >= 0 and j < len(word_list):\n",
        "                y = get_word_repr(word_to_index, word_list[j])\n",
        "                trainX.append(x)\n",
        "                trainY.append(y)\n",
        "    \n",
        "    return np.array(trainX), np.array(trainY)"
      ]
    },
    {
      "cell_type": "code",
      "execution_count": 18,
      "metadata": {},
      "outputs": [],
      "source": [
        "class W2VDataset(Dataset):\n",
        "\n",
        "    def __init__(self, X, y):\n",
        "        self.X = torch.tensor(X).float()\n",
        "        self.y = torch.tensor(np.argmax(y, axis = 1)).long()\n",
        "\n",
        "    def __len__(self):\n",
        "        return self.X.shape[0]\n",
        "    \n",
        "    def __getitem__(self, index):  \n",
        "          return self.X[index,:], self.y[index]"
      ]
    },
    {
      "cell_type": "code",
      "execution_count": 54,
      "metadata": {
        "id": "OoaUtBqd7V-A"
      },
      "outputs": [],
      "source": [
        "def find_most_similar_pairs(filename, num_latent_factors):\n",
        "    \"\"\"\n",
        "    Find the most similar pairs from the word embeddings computed from\n",
        "    a body of text\n",
        "    \n",
        "    Arguments:\n",
        "        filename:           Text file to read and train embeddings from\n",
        "        num_latent_factors: The number of latent factors / the size of the embedding\n",
        "    \"\"\"\n",
        "    # Load in a list of words from the specified file; remove non-alphanumeric characters\n",
        "    # and make all chars lowercase.\n",
        "    sample_text = load_word_list(filename)\n",
        "\n",
        "    # Create word dictionary\n",
        "    word_to_index = generate_onehot_dict(sample_text)\n",
        "    print(\"Textfile contains %s unique words\"%len(word_to_index))\n",
        "    # Create training data\n",
        "    trainX, trainY = generate_traindata(sample_text, word_to_index)\n",
        "    train_dataset = W2VDataset(trainX, trainY)\n",
        "    ##############################################################\n",
        "    # TODO: 1) Create and train model in Pytorch.      \n",
        "    ##############################################################\n",
        "\n",
        "    # vocab_size = number of unique words in our text file. Will be useful \n",
        "    # when adding layers to your neural network\n",
        "    vocab_size = len(word_to_index)\n",
        "    model = nn.Sequential( \n",
        "        nn.Linear(vocab_size, 10),\n",
        "        nn.Linear(10, vocab_size),\n",
        "    )\n",
        "\n",
        "    device = torch.device('cuda' if torch.cuda.is_available() else 'cpu')\n",
        "    model.to(device)\n",
        "    optimizer = torch.optim.Adam(model.parameters(), lr=1e-3)\n",
        "    loss_fn = nn.CrossEntropyLoss()\n",
        "\n",
        "    torch.manual_seed(0)\n",
        "    #need to fix this\n",
        "    train_loader = torch.utils.data.DataLoader(train_dataset, batch_size=128, shuffle=True)\n",
        "\n",
        "    for epoch in range(20):\n",
        "        for batch_idx, (data, target) in enumerate(train_loader):\n",
        "            # Erase accumulated gradients\n",
        "            optimizer.zero_grad()\n",
        "\n",
        "            # Forward pass\n",
        "            output = model(data)\n",
        "\n",
        "            # Calculate loss\n",
        "            loss = loss_fn(output, target)\n",
        "\n",
        "            # Backward pass\n",
        "            loss.backward()\n",
        "            \n",
        "            # Weight update\n",
        "            optimizer.step()\n",
        "\n",
        "        # Track loss each epoch\n",
        "        print('Train Epoch: %d  Loss: %.4f' % (epoch + 1,  loss.item()))\n",
        "\n",
        "    ##############################################################\n",
        "    # TODO: 2) Extract weights for hidden layer\n",
        "    ##############################################################\n",
        "    # set weights variable below\n",
        "    weights = list(model.parameters())[2].detach().numpy()\n",
        "    print(weights.shape)\n",
        "    \n",
        "    # Find and print most similar pairs\n",
        "    similar_pairs = most_similar_pairs(weights, word_to_index)\n",
        "    for pair in similar_pairs[:30]:\n",
        "        print(pair)\n",
        "    "
      ]
    },
    {
      "cell_type": "markdown",
      "metadata": {
        "id": "xFBMhtCJ8LyA"
      },
      "source": [
        "### Problem E-H:\n",
        "Run your model on drseuss.txt and answer questions from E through H."
      ]
    },
    {
      "cell_type": "code",
      "execution_count": 55,
      "metadata": {
        "id": "bR7ZicNJ6tyN"
      },
      "outputs": [
        {
          "name": "stdout",
          "output_type": "stream",
          "text": [
            "Textfile contains 308 unique words\n",
            "Train Epoch: 1  Loss: 5.5281\n",
            "Train Epoch: 2  Loss: 4.8917\n",
            "Train Epoch: 3  Loss: 4.4720\n",
            "Train Epoch: 4  Loss: 4.5169\n",
            "Train Epoch: 5  Loss: 4.6518\n",
            "Train Epoch: 6  Loss: 4.6868\n",
            "Train Epoch: 7  Loss: 4.7877\n",
            "Train Epoch: 8  Loss: 4.8217\n",
            "Train Epoch: 9  Loss: 4.7809\n",
            "Train Epoch: 10  Loss: 4.8425\n",
            "Train Epoch: 11  Loss: 4.5532\n",
            "Train Epoch: 12  Loss: 4.2282\n",
            "Train Epoch: 13  Loss: 4.1857\n",
            "Train Epoch: 14  Loss: 4.4402\n",
            "Train Epoch: 15  Loss: 4.4127\n",
            "Train Epoch: 16  Loss: 4.4619\n",
            "Train Epoch: 17  Loss: 4.4291\n",
            "Train Epoch: 18  Loss: 4.0862\n",
            "Train Epoch: 19  Loss: 4.7889\n",
            "Train Epoch: 20  Loss: 4.1189\n",
            "(308, 10)\n",
            "Pair(likes, drink), Similarity: 0.98902935\n",
            "Pair(drink, likes), Similarity: 0.98902935\n",
            "Pair(upon, grows), Similarity: 0.9775233\n",
            "Pair(grows, upon), Similarity: 0.9775233\n",
            "Pair(gone, tomorrow), Similarity: 0.97598\n",
            "Pair(tomorrow, gone), Similarity: 0.97598\n",
            "Pair(off, cold), Similarity: 0.9744982\n",
            "Pair(cold, off), Similarity: 0.9744982\n",
            "Pair(wink, pink), Similarity: 0.97420156\n",
            "Pair(pink, wink), Similarity: 0.97420156\n",
            "Pair(down, town), Similarity: 0.9718718\n",
            "Pair(town, down), Similarity: 0.9718718\n",
            "Pair(stick, only), Similarity: 0.971735\n",
            "Pair(only, stick), Similarity: 0.971735\n",
            "Pair(there, here), Similarity: 0.97125745\n",
            "Pair(here, there), Similarity: 0.97125745\n",
            "Pair(took, down), Similarity: 0.96773994\n",
            "Pair(eight, nine), Similarity: 0.96755034\n",
            "Pair(nine, eight), Similarity: 0.96755034\n",
            "Pair(read, walked), Similarity: 0.9647553\n",
            "Pair(walked, read), Similarity: 0.9647553\n",
            "Pair(today, tomorrow), Similarity: 0.96456414\n",
            "Pair(eggs, ham), Similarity: 0.9641697\n",
            "Pair(ham, eggs), Similarity: 0.9641697\n",
            "Pair(heads, upon), Similarity: 0.96246827\n",
            "Pair(foot, off), Similarity: 0.96228147\n",
            "Pair(milk, kind), Similarity: 0.9609818\n",
            "Pair(kind, milk), Similarity: 0.9609818\n",
            "Pair(told, read), Similarity: 0.9546322\n",
            "Pair(samiam, anywhere), Similarity: 0.9541136\n"
          ]
        }
      ],
      "source": [
        "find_most_similar_pairs('dr_seuss.txt', 10)"
      ]
    },
    {
      "cell_type": "code",
      "execution_count": null,
      "metadata": {},
      "outputs": [],
      "source": []
    }
  ],
  "metadata": {
    "colab": {
      "collapsed_sections": [
        "h9aBEkZD5wb2"
      ],
      "include_colab_link": true,
      "name": "set5_prob3.ipynb",
      "provenance": []
    },
    "kernelspec": {
      "display_name": "Python 3",
      "name": "python3"
    },
    "language_info": {
      "codemirror_mode": {
        "name": "ipython",
        "version": 3
      },
      "file_extension": ".py",
      "mimetype": "text/x-python",
      "name": "python",
      "nbconvert_exporter": "python",
      "pygments_lexer": "ipython3",
      "version": "3.8.12"
    }
  },
  "nbformat": 4,
  "nbformat_minor": 0
}
