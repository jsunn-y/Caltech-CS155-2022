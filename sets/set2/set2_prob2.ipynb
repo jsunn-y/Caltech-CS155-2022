{
 "cells": [
  {
   "cell_type": "markdown",
   "metadata": {},
   "source": [
    "# Problem 2"
   ]
  },
  {
   "cell_type": "markdown",
   "metadata": {},
   "source": [
    "Use this notebook to write your code for problem 2. You may reuse your SGD code from last week."
   ]
  },
  {
   "cell_type": "code",
   "execution_count": 3,
   "metadata": {},
   "outputs": [],
   "source": [
    "import numpy as np\n",
    "import matplotlib.pyplot as plt\n",
    "from sklearn.preprocessing import StandardScaler\n",
    "from sklearn.utils import shuffle\n",
    "%matplotlib inline"
   ]
  },
  {
   "cell_type": "markdown",
   "metadata": {},
   "source": [
    "The following function may be useful for loading the necessary data."
   ]
  },
  {
   "cell_type": "code",
   "execution_count": 44,
   "metadata": {},
   "outputs": [],
   "source": [
    "def load_data(filename):\n",
    "    \"\"\"\n",
    "    Function loads data stored in the file filename and returns it as a numpy ndarray.\n",
    "    \n",
    "    Inputs:\n",
    "        filename: given as a string.\n",
    "        \n",
    "    Outputs:\n",
    "        Data contained in the file, returned as a numpy ndarray\n",
    "    \"\"\"\n",
    "    return np.loadtxt(filename, skiprows=1, delimiter=',')\n",
    "\n",
    "def loss(X, Y, w):\n",
    "    '''\n",
    "    Calculate the logistic loss.\n",
    "    \n",
    "    Inputs:\n",
    "        X: A (N, D) shaped numpy array containing the data points.\n",
    "        Y: A (N, ) shaped numpy array containing the labels of the data points.\n",
    "        w: A (D, ) shaped numpy array containing the weight vector.\n",
    "    \n",
    "    Outputs:\n",
    "        The loss evaluated with respect to X, Y, and w.\n",
    "    '''\n",
    "    \n",
    "    #==============================================\n",
    "    # TODO: Implement the SGD loss function.\n",
    "    #==============================================\n",
    "    #print(-Y * np.sum(w*X, axis=1))\n",
    "    return -1 * np.sum(np.log(1/(1+np.exp(-Y * np.sum(w*X, axis=1))))) #- alpha * np.dot(w,w))\n",
    "\n",
    "\n",
    "def gradient(x, y, w, alpha):\n",
    "    '''\n",
    "    Calculate the gradient of the regularized loss function with respect to\n",
    "    a single point (x, y), and using weight vector w.\n",
    "    \n",
    "    Inputs:\n",
    "        x: A (D, ) shaped numpy array containing a single data point.\n",
    "        y: The classification label for the data point.\n",
    "        w: A (D, ) shaped numpy array containing the weight vector.\n",
    "        alpha: the regularization factor scaled by the number of samples\n",
    "        \n",
    "    Output:\n",
    "        The gradient of the loss with respect to x, y, and w. \n",
    "    '''\n",
    "    \n",
    "    #==============================================\n",
    "    # TODO: Implement the gradient of the loss function.\n",
    "    #==============================================    \n",
    "\n",
    "    return (-y/(1+np.exp(y * np.dot(w,x))) * x + 2*alpha*w )\n",
    "\n",
    "def SGD(X, Y, w_start, eta, alpha, N_epochs):\n",
    "    '''\n",
    "    Perform SGD using dataset (X, Y), initial weight vector w_start,\n",
    "    learning rate eta, regularization factor alpha, and N_epochs epochs.\n",
    "    \n",
    "    Inputs:\n",
    "        X: A (N, D) shaped numpy array containing the data points.\n",
    "        Y: A (N, ) shaped numpy array containing the (float) labels of the data points.\n",
    "        w_start:  A (D, ) shaped numpy array containing the weight vector initialization.\n",
    "        eta: The step size.\n",
    "        N_epochs: The number of epochs (iterations) to run SGD.\n",
    "        alpha: the regularization factor\n",
    "        \n",
    "    Outputs:\n",
    "        w: A (D, ) shaped array containing the final weight vector.\n",
    "        losses: A (N_epochs, ) shaped array containing the losses from all iterations.\n",
    "    '''\n",
    "    \n",
    "    #==============================================\n",
    "    # TODO: Implement the SGD algorithm.\n",
    "    #==============================================    \n",
    "    \n",
    "    N = X.shape[0]\n",
    "    D = X.shape[1]\n",
    "    alpha = alpha/N\n",
    "    train_losses = np.zeros(N_epochs)\n",
    "    test_losses = np.zeros(N_epochs)\n",
    "    w = w_start\n",
    "    \n",
    "    np.random.seed(42)\n",
    "    for epoch in range(N_epochs):\n",
    "        X, Y = shuffle(X, Y)\n",
    "        for i, (x, y) in enumerate(zip(X, Y)):\n",
    "            w -= eta*gradient(x,y,w, alpha)\n",
    "        train_losses[epoch] = loss(X,Y,w)\n",
    "        test_losses[epoch] = loss(X_test,y_test,w)\n",
    "    return w, train_losses, test_losses"
   ]
  },
  {
   "cell_type": "code",
   "execution_count": 45,
   "metadata": {},
   "outputs": [],
   "source": [
    "train_data1 = load_data('./data/wine_training1.txt')\n",
    "train_data2 = load_data('./data/wine_training2.txt')\n",
    "test_data = load_data('./data/wine_validation.txt')\n",
    "\n",
    "X_train1 = train_data1[:,1:]\n",
    "y_train1 = train_data1[:,0]\n",
    "X_train2 = train_data2[:,1:]\n",
    "y_train2 = train_data2[:,0]\n",
    "X_test = test_data[:,1:]\n",
    "y_test = test_data[:,0]\n",
    "\n",
    "train_scaler1 = StandardScaler()\n",
    "X_train1 = train_scaler1.fit_transform(X_train1)\n",
    "X_train1 = np.append(X_train1, np.ones((X_train1.shape[0],1)), axis=1)\n",
    "train_scaler2 = StandardScaler()\n",
    "X_train2 = train_scaler2.fit_transform(X_train2)\n",
    "X_train2 = np.append(X_train2, np.ones((X_train2.shape[0],1)), axis=1)\n",
    "test_scaler = StandardScaler()\n",
    "X_test = test_scaler.fit_transform(X_test)\n",
    "X_test = np.append(X_test, np.ones((X_test.shape[0],1)), axis=1)"
   ]
  },
  {
   "cell_type": "code",
   "execution_count": 46,
   "metadata": {},
   "outputs": [],
   "source": [
    "alpha_list = [1e-5 * 5**i for i in range(15)]\n",
    "#alpha_list = alpha_list[:1]\n",
    "eta = 5e-4\n",
    "N_epochs = 20000\n",
    "\n",
    "def train(X_train, y_train):\n",
    "    \n",
    "    train_errors = np.zeros(len(alpha_list))\n",
    "    test_errors = np.zeros(len(alpha_list))\n",
    "    l2ws = np.zeros(len(alpha_list))\n",
    "    \n",
    "    for i, alpha in enumerate(alpha_list):\n",
    "        np.random.seed(42)\n",
    "        w_start = np.random.uniform(0,0.01,X_train.shape[1])\n",
    "        w, train_losses, test_losses = SGD(X_train, y_train, w_start, eta, alpha, N_epochs)\n",
    "        train_errors[i] = train_losses[-1]/X_train.shape[0]\n",
    "        test_errors[i] = test_losses[-1]/X_test.shape[0]\n",
    "        l2ws[i] = np.dot(w, w)\n",
    "    \n",
    "    return train_errors, test_errors, l2ws"
   ]
  },
  {
   "cell_type": "code",
   "execution_count": 47,
   "metadata": {},
   "outputs": [],
   "source": [
    "train_errors1, test_errors1, l2ws1 = train(X_train1, y_train1)"
   ]
  },
  {
   "cell_type": "code",
   "execution_count": 48,
   "metadata": {},
   "outputs": [],
   "source": [
    "train_errors2, test_errors2, l2ws2 = train(X_train2, y_train2)"
   ]
  },
  {
   "cell_type": "code",
   "execution_count": 53,
   "metadata": {},
   "outputs": [
    {
     "data": {
      "image/png": "[encoded data removed]",
      "text/plain": [
       "<Figure size 360x864 with 3 Axes>"
      ]
     },
     "metadata": {
      "needs_background": "light"
     },
     "output_type": "display_data"
    }
   ],
   "source": [
    "plt.figure(figsize=(5,12))\n",
    "plt.subplot(3,1,1)\n",
    "plt.plot(np.log10(alpha_list), train_errors1)\n",
    "plt.plot(np.log10(alpha_list), train_errors2)\n",
    "plt.xlabel('log10(Alpha)')\n",
    "plt.ylabel('Average Train Error')\n",
    "plt.legend(['Set1', 'Set2'])\n",
    "\n",
    "plt.subplot(3,1,2)\n",
    "plt.plot(np.log10(alpha_list), test_errors1)\n",
    "plt.plot(np.log10(alpha_list), test_errors2)\n",
    "plt.xlabel('log10(Alpha)')\n",
    "plt.ylabel('Average Test Error')\n",
    "plt.legend(['Set1', 'Set2'])\n",
    "\n",
    "plt.subplot(3,1,3)\n",
    "plt.plot(np.log10(alpha_list), l2ws1)\n",
    "plt.plot(np.log10(alpha_list), l2ws2)\n",
    "plt.xlabel('log10(Alpha)')\n",
    "plt.ylabel('l2 norm of w')\n",
    "plt.legend(['Set1', 'Set2'])\n",
    "plt.savefig('prob2.pdf')"
   ]
  },
  {
   "cell_type": "code",
   "execution_count": null,
   "metadata": {},
   "outputs": [],
   "source": []
  }
 ],
 "metadata": {
  "kernelspec": {
   "display_name": "Python 3",
   "language": "python",
   "name": "python3"
  },
  "language_info": {
   "codemirror_mode": {
    "name": "ipython",
    "version": 3
   },
   "file_extension": ".py",
   "mimetype": "text/x-python",
   "name": "python",
   "nbconvert_exporter": "python",
   "pygments_lexer": "ipython3",
   "version": "3.8.12"
  }
 },
 "nbformat": 4,
 "nbformat_minor": 4
}
