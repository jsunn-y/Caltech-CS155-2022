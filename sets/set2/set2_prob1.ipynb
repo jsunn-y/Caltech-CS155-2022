{
  "cells": [
    {
      "cell_type": "markdown",
      "metadata": {
<<<<<<< HEAD
        "colab_type": "text",
        "id": "view-in-github"
=======
        "id": "view-in-github",
        "colab_type": "text"
>>>>>>> dfa32f64015bd3a605462d1789b851a995766131
      },
      "source": [
        "<a href=\"https://colab.research.google.com/github/charlesincharge/Caltech-CS155-2022/blob/main/sets/set2/set2_prob1.ipynb\" target=\"_parent\"><img src=\"https://colab.research.google.com/assets/colab-badge.svg\" alt=\"Open In Colab\"/></a>"
      ]
    },
    {
      "cell_type": "markdown",
      "metadata": {
        "id": "_0Eu7nzzpNMi"
      },
      "source": [
        "# Problem 1 "
      ]
    },
    {
      "cell_type": "markdown",
      "metadata": {
        "id": "SJx6JcrxpNMq"
      },
      "source": [
        "Use this notebook to write your code for problem 1. Some example code, and a plotting function for drawing decision boundaries, are given below."
      ]
    },
    {
      "cell_type": "code",
<<<<<<< HEAD
      "execution_count": 57,
=======
      "execution_count": null,
>>>>>>> dfa32f64015bd3a605462d1789b851a995766131
      "metadata": {
        "id": "UaZZgsX3pNMs"
      },
      "outputs": [],
      "source": [
        "import numpy as np\n",
        "from matplotlib import pyplot as plt\n",
        "from sklearn.linear_model import LogisticRegression\n",
        "from sklearn.linear_model import Ridge\n",
        "%matplotlib inline"
      ]
    },
    {
      "cell_type": "markdown",
      "metadata": {
        "id": "shNgjKiwpNMv"
      },
      "source": [
        "### Load the data:"
      ]
    },
    {
      "cell_type": "code",
<<<<<<< HEAD
      "execution_count": 65,
      "metadata": {
        "id": "2pQ6092mpNMx",
        "jupyter": {
          "outputs_hidden": false
        }
      },
      "outputs": [],
      "source": [
        "data = np.loadtxt('https://raw.githubusercontent.com/charlesincharge/Caltech-CS155-2022/main/sets/set2/data/problem1data1.txt')\n",
=======
      "execution_count": null,
      "metadata": {
        "jupyter": {
          "outputs_hidden": false
        },
        "id": "2pQ6092mpNMx"
      },
      "outputs": [],
      "source": [
        "data = np.loadtxt('data/problem1data1.txt')\n",
>>>>>>> dfa32f64015bd3a605462d1789b851a995766131
        "X = data[:, :2]\n",
        "y = data[:, 2]"
      ]
    },
    {
      "cell_type": "markdown",
      "metadata": {
        "id": "s--r0xr_pNMy"
      },
      "source": [
        "### The function make_plot below is a helper function for plotting decision boundaries; you should not need to change it."
      ]
    },
    {
      "cell_type": "code",
<<<<<<< HEAD
      "execution_count": 66,
=======
      "execution_count": null,
>>>>>>> dfa32f64015bd3a605462d1789b851a995766131
      "metadata": {
        "id": "86gJ4PO_pNMz"
      },
      "outputs": [],
      "source": [
        "def make_plot(X, y, clf, title, filename):\n",
        "    '''\n",
        "    Plots the decision boundary of the classifier <clf> (assumed to have been fitted\n",
        "    to X via clf.fit()) against the matrix of examples X with corresponding labels y.\n",
        "\n",
        "    Uses <title> as the title of the plot, saving the plot to <filename>.\n",
        "\n",
        "    Note that X is expected to be a 2D numpy array of shape (num_samples, num_dims).\n",
        "    '''\n",
        "    # Create a mesh of points at which to evaluate our classifier\n",
        "    x_min, x_max = X[:, 0].min() - 1, X[:, 0].max() + 1\n",
        "    y_min, y_max = X[:, 1].min() - 1, X[:, 1].max() + 1\n",
        "    xx, yy = np.meshgrid(np.arange(x_min, x_max, 0.02),\n",
        "                         np.arange(y_min, y_max, 0.02))\n",
        "\n",
        "    # Plot the decision boundary. For that, we will assign a color to each\n",
        "    # point in the mesh [x_min, x_max]x[y_min, y_max].\n",
        "    Z = clf.predict(np.c_[xx.ravel(), yy.ravel()])\n",
        "    # binarize \n",
        "    Z = np.where(Z > 0, np.ones(len(Z)), -1 * np.ones(len(Z)))\n",
        "    \n",
        "    # Put the result into a color plot\n",
        "    Z = Z.reshape(xx.shape)\n",
        "    plt.contourf(xx, yy, Z, cmap=plt.cm.coolwarm, alpha=0.8, vmin=-1, vmax=1)\n",
        "\n",
        "    # Also plot the training points\n",
        "    plt.scatter(X[:, 0], X[:, 1], c=y, cmap=plt.cm.coolwarm)\n",
        "    plt.xlabel('x1')\n",
        "    plt.ylabel('x2')\n",
        "    plt.xlim(xx.min(), xx.max())\n",
        "    plt.ylim(yy.min(), yy.max())\n",
        "    plt.xticks(())\n",
        "    plt.yticks(())\n",
        "    plt.title(title)\n",
        "    plt.savefig(filename)\n",
        "    plt.show()"
      ]
    },
    {
      "cell_type": "markdown",
      "metadata": {
        "id": "A9pzQjyGpNNE"
      },
      "source": [
        "## Here is some example code for performing regression with scikit-learn.\n",
        "This section is not part of the problem! It demonstrates usage of the Ridge regression function, in particular illustrating what happens when the regularization strength is set to an overly-large number."
      ]
    },
    {
<<<<<<< HEAD
      "cell_type": "markdown",
      "metadata": {
        "id": "KDMuGsHXpNNJ"
      },
      "source": [
        "# Your code for problem 1"
      ]
    },
    {
      "cell_type": "code",
      "execution_count": 67,
      "metadata": {
        "id": "VlmdJYl0pNNL"
      },
      "outputs": [
        {
          "data": {
            "image/png": "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",
            "text/plain": [
              "<Figure size 432x288 with 1 Axes>"
            ]
          },
          "metadata": {},
          "output_type": "display_data"
        }
      ],
      "source": [
        "#==============================================\n",
        "# TODO: Implement your code for Problem 1 here.\n",
        "# Use as many cells as you need.\n",
        "#==============================================\n",
        "# Instantiate a Ridge regression object:\n",
        "ridge = Ridge(alpha = 1e-5)\n",
        "ridge.fit(X, y)\n",
        "make_plot(X, y, ridge, 'Squared Loss', 'ridge.pdf')\n"
      ]
    },
    {
      "cell_type": "code",
      "execution_count": 68,
      "metadata": {},
      "outputs": [
        {
          "data": {
            "image/png": "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",
            "text/plain": [
              "<Figure size 432x288 with 1 Axes>"
            ]
          },
          "metadata": {},
          "output_type": "display_data"
        },
        {
          "data": {
            "text/plain": [
              "<Figure size 432x288 with 0 Axes>"
            ]
          },
          "metadata": {},
=======
      "cell_type": "code",
      "execution_count": null,
      "metadata": {
        "jupyter": {
          "outputs_hidden": false
        },
        "id": "iyoBGg63pNNG",
        "outputId": "69e76cc9-e6a7-4691-998d-1d603d4cb074"
      },
      "outputs": [
        {
          "name": "stdout",
          "output_type": "stream",
          "text": [
            "Ridge regression fit y = 1.482376x + 10.724529\n"
          ]
        },
        {
          "data": {
            "text/plain": [
              "Text(0.5, 1.0, 'Ridge Regression with High Regularization')"
            ]
          },
          "execution_count": 7,
          "metadata": {},
          "output_type": "execute_result"
        },
        {
          "data": {
            "image/png": "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\n",
            "text/plain": [
              "<Figure size 432x288 with 1 Axes>"
            ]
          },
          "metadata": {
            "needs_background": "light"
          },
>>>>>>> dfa32f64015bd3a605462d1789b851a995766131
          "output_type": "display_data"
        }
      ],
      "source": [
<<<<<<< HEAD
        "logistic = LogisticRegression(C = 1e5)\n",
        "logistic.fit(X, y)\n",
        "make_plot(X, y, logistic, 'Logistic Loss', 'logistic.pdf')\n",
        "plt.savefig('log_loss.pdf')"
      ]
    },
    {
      "cell_type": "code",
      "execution_count": 69,
      "metadata": {},
      "outputs": [],
      "source": [
        "def log_gradient(x, y, w):\n",
        "    '''\n",
        "    Calculate the gradient of the logistic loss function with respect to\n",
        "    a single point (x, y), and using weight vector w.\n",
        "    \n",
        "    Inputs:\n",
        "        x: A (D, ) shaped numpy array containing a single data point.\n",
        "        y: The classification label for the data point.\n",
        "        w: A (D, ) shaped numpy array containing the weight vector.\n",
        "        \n",
        "    Output:\n",
        "        The gradient of the loss with respect to x, y, and w. \n",
        "    '''\n",
        "    return -1 * y/(1+np.exp(y * np.dot(w,x))) * x \n",
        "\n",
        "def hinge_gradient(x, y, w):\n",
        "    '''\n",
        "    Calculate the gradient of the hinge loss function with respect to\n",
        "    a single point (x, y), and using weight vector w.\n",
        "    \n",
        "    Inputs:\n",
        "        x: A (D, ) shaped numpy array containing a single data point.\n",
        "        y: The classification label for the data point.\n",
        "        w: A (D, ) shaped numpy array containing the weight vector.\n",
        "        \n",
        "    Output:\n",
        "        The gradient of the loss with respect to x, y, and w. \n",
        "    '''\n",
        "    if y * np.dot(w,x) < 1:\n",
        "        return -1 * y * x\n",
        "    else:\n",
        "        return np.zeros(len(w))"
      ]
    },
    {
      "cell_type": "code",
      "execution_count": 70,
      "metadata": {},
      "outputs": [
        {
          "name": "stdout",
          "output_type": "stream",
          "text": [
            "x pt\n",
            "[1.  0.5 3. ]\n",
            "Log Loss Gradient: \n",
            "[-0.37754067 -0.18877033 -1.13262201]\n",
            "Hinge Loss Gradient:\n",
            "[-1.  -0.5 -3. ]\n",
            "x pt\n",
            "[ 1  2 -2]\n",
            "Log Loss Gradient: \n",
            "[-0.11920292 -0.23840584  0.23840584]\n",
            "Hinge Loss Gradient:\n",
            "[0. 0. 0.]\n",
            "x pt\n",
            "[ 1 -3  1]\n",
            "Log Loss Gradient: \n",
            "[ 0.04742587 -0.14227762  0.04742587]\n",
            "Hinge Loss Gradient:\n",
            "[0. 0. 0.]\n"
          ]
        }
      ],
      "source": [
        "w = [0, 1, 0]\n",
        "y_list= [1 ,1, -1]\n",
        "x_list = [np.array([1, 0.5, 3]), np.array([1,2,-2]), np.array([1,-3,1])]\n",
        "\n",
        "for x, y in zip(x_list, y_list):\n",
        "    print('x pt')\n",
        "    print(x)\n",
        "    print('Log Loss Gradient: ')\n",
        "    print(log_gradient(x, y, w))\n",
        "    print('Hinge Loss Gradient:')\n",
        "    print(hinge_gradient(x, y, w))"
      ]
    },
    {
      "cell_type": "code",
      "execution_count": 71,
      "metadata": {},
      "outputs": [
        {
          "data": {
            "text/plain": [
              "array([ 1, -3,  1])"
            ]
          },
          "execution_count": 71,
          "metadata": {},
          "output_type": "execute_result"
        }
      ],
      "source": [
        "-y * x"
=======
        "# Instantiate a Ridge regression object:\n",
        "ridge = Ridge(alpha = 200)\n",
        "\n",
        "# Generate some fake data: y is linearly dependent on x, plus some noise.\n",
        "n_pts = 40\n",
        "\n",
        "x = np.linspace(0, 5, n_pts)\n",
        "y = 5 * x + np.random.randn(n_pts) + 2\n",
        "\n",
        "x = np.reshape(x, (-1, 1))   # Ridge regression function expects a 2D matrix\n",
        "\n",
        "plt.figure()\n",
        "plt.plot(x, y, marker = 'o', linewidth = 0)\n",
        "\n",
        "ridge.fit(x, y)   # Fit the ridge regression model to the data\n",
        "print('Ridge regression fit y = %fx + %f' % (ridge.coef_, ridge.intercept_))\n",
        "\n",
        "# Add ridge regression line to the plot:\n",
        "plt.plot(x, ridge.coef_ * x + ridge.intercept_, color = 'red')\n",
        "plt.legend(['data', 'Ridge Regression Fit'])\n",
        "plt.xlabel('x')\n",
        "plt.ylabel('y')\n",
        "plt.title('Ridge Regression with High Regularization')"
      ]
    },
    {
      "cell_type": "markdown",
      "metadata": {
        "id": "KDMuGsHXpNNJ"
      },
      "source": [
        "# Your code for problem 1"
>>>>>>> dfa32f64015bd3a605462d1789b851a995766131
      ]
    },
    {
      "cell_type": "code",
      "execution_count": null,
<<<<<<< HEAD
      "metadata": {},
      "outputs": [],
      "source": []
=======
      "metadata": {
        "id": "VlmdJYl0pNNL"
      },
      "outputs": [],
      "source": [
        "#==============================================\n",
        "# TODO: Implement your code for Problem 1 here.\n",
        "# Use as many cells as you need.\n",
        "#=============================================="
      ]
>>>>>>> dfa32f64015bd3a605462d1789b851a995766131
    }
  ],
  "metadata": {
    "anaconda-cloud": {},
<<<<<<< HEAD
    "colab": {
      "include_colab_link": true,
      "name": "set2_prob1.ipynb",
      "provenance": []
    },
=======
>>>>>>> dfa32f64015bd3a605462d1789b851a995766131
    "kernelspec": {
      "display_name": "Python 3",
      "language": "python",
      "name": "python3"
    },
    "language_info": {
      "codemirror_mode": {
        "name": "ipython",
        "version": 3
      },
      "file_extension": ".py",
      "mimetype": "text/x-python",
      "name": "python",
      "nbconvert_exporter": "python",
      "pygments_lexer": "ipython3",
<<<<<<< HEAD
      "version": "3.8.12"
=======
      "version": "3.8.3"
    },
    "colab": {
      "name": "set2_prob1.ipynb",
      "provenance": [],
      "include_colab_link": true
>>>>>>> dfa32f64015bd3a605462d1789b851a995766131
    }
  },
  "nbformat": 4,
  "nbformat_minor": 0
<<<<<<< HEAD
}
=======
}
>>>>>>> dfa32f64015bd3a605462d1789b851a995766131
